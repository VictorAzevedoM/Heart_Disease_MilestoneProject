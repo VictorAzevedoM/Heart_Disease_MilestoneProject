{
 "cells": [
  {
   "cell_type": "markdown",
   "id": "b19ac1a6",
   "metadata": {},
   "source": [
    "# Predicting Heart Disease using machine learning # \n",
    "\n",
    "This notebook looks into using various Python-based Machine learning and Ds Libraries in an attempt to build a machine learning model capable of predicting wheter or not someone has heart disease based on their medical attributes\n",
    "\n",
    "We´re going to take the following approach:\n",
    "\n",
    "1. Problem definition\n",
    "   1. In a statement,\n",
    "      1. Given Clinical Parameters about a patient, can we predict whether or not they have heart disease?\n",
    "   \n",
    "2. Data\n",
    "   1. The original data came from the Cleavland data from the UCI Machine Learning Repository. https://archive.ics.uci.edu/ml/datasets/heart+Disease\n",
    "   2. There is also a version of it available on Kaggle. https://www.kaggle.com/datasets/sumaiyatasmeem/heart-disease-classification-dataset\n",
    "   \n",
    "3. Evaluation\n",
    "   1. If we can reach 95% accuracy at predicting whether or not a patient has heart disease during the proof of concept, we'll pursue the project.\n",
    "   \n",
    "4. Features\n",
    "   1. This is where you'll get different information about each of the features in your data. You can do this via doing your own research (such as looking at the links above) or by talking to a subject matter expert (someone who knows about the dataset).\n",
    "5. Modelling \n",
    "6. Experimentation"
   ]
  },
  {
   "cell_type": "markdown",
   "id": "f77423bb",
   "metadata": {},
   "source": [
    "Create data dictionary\n",
    "\n",
    "    age - age in years\n",
    "    sex - (1 = male; 0 = female)\n",
    "    cp - chest pain type\n",
    "        0: Typical angina: chest pain related decrease blood supply to the heart\n",
    "        1: Atypical angina: chest pain not related to heart\n",
    "        2: Non-anginal pain: typically esophageal spasms (non heart related)\n",
    "        3: Asymptomatic: chest pain not showing signs of disease\n",
    "    trestbps - resting blood pressure (in mm Hg on admission to the hospital) anything above 130-140 is typically cause for concern\n",
    "    chol - serum cholestoral in mg/dl\n",
    "        serum = LDL + HDL + .2 * triglycerides\n",
    "        above 200 is cause for concern\n",
    "    fbs - (fasting blood sugar > 120 mg/dl) (1 = true; 0 = false)\n",
    "        '>126' mg/dL signals diabetes\n",
    "    restecg - resting electrocardiographic results\n",
    "        0: Nothing to note\n",
    "        1: ST-T Wave abnormality\n",
    "            can range from mild symptoms to severe problems\n",
    "            signals non-normal heart beat\n",
    "        2: Possible or definite left ventricular hypertrophy\n",
    "            Enlarged heart's main pumping chamber\n",
    "    thalach - maximum heart rate achieved\n",
    "    exang - exercise induced angina (1 = yes; 0 = no)\n",
    "    oldpeak - ST depression induced by exercise relative to rest looks at stress of heart during excercise unhealthy heart will stress more\n",
    "    slope - the slope of the peak exercise ST segment\n",
    "        0: Upsloping: better heart rate with excercise (uncommon)\n",
    "        1: Flatsloping: minimal change (typical healthy heart)\n",
    "        2: Downslopins: signs of unhealthy heart\n",
    "    ca - number of major vessels (0-3) colored by flourosopy\n",
    "        colored vessel means the doctor can see the blood passing through\n",
    "        the more blood movement the better (no clots)\n",
    "    thal - thalium stress result\n",
    "        1,3: normal\n",
    "        6: fixed defect: used to be defect but ok now\n",
    "        7: reversable defect: no proper blood movement when excercising\n",
    "    target - have disease or not (1=yes, 0=no) (= the predicted attribute)\n"
   ]
  },
  {
   "cell_type": "markdown",
   "id": "47bc33dc",
   "metadata": {},
   "source": [
    "## Preparing the tools\n",
    "We're going to use pandas, Matplotlib and NumPy for data analysis and manipulation.\n"
   ]
  },
  {
   "cell_type": "code",
   "execution_count": null,
   "id": "3fbb0cf1",
   "metadata": {},
   "outputs": [],
   "source": [
    "# Import all the tools we need\n",
    "\n",
    "# Regular EDA (exploratory data analysis) and plotting libraries\n",
    "import numpy as np\n",
    "import pandas as pd\n",
    "import matplotlib.pyplot as plt\n",
    "import seaborn as sns\n",
    "\n",
    "# we want our plots to appear inside the notebook\n",
    "%matplotlib inline \n",
    "\n",
    "# Models from Scikit-Learn\n",
    "from sklearn.linear_model import LogisticRegression\n",
    "from sklearn.neighbors import KNeighborsClassifier\n",
    "from sklearn.ensemble import RandomForestClassifier\n",
    "\n",
    "# Model Evaluations\n",
    "from sklearn.model_selection import train_test_split, cross_val_score\n",
    "from sklearn.model_selection import RandomizedSearchCV, GridSearchCV\n",
    "from sklearn.metrics import confusion_matrix, classification_report\n",
    "from sklearn.metrics import precision_score, recall_score, f1_score\n",
    "from sklearn.metrics import RocCurveDisplay\n",
    "\n"
   ]
  },
  {
   "cell_type": "code",
   "execution_count": null,
   "id": "967e2688",
   "metadata": {},
   "outputs": [],
   "source": [
    "df = pd.read_csv(\"heart-disease.csv\")\n",
    "df.shape  # (rows, columns)"
   ]
  },
  {
   "cell_type": "markdown",
   "id": "aad7fcfb",
   "metadata": {},
   "source": [
    "\n",
    "## Data Exploration (exploratory data analysis or EDA)\n",
    "\n",
    "The goal here is to find out more about the data and become a subject matter export on the dataset you're working with.\n",
    "\n",
    "    What question(s) are you trying to solve?\n",
    "    What kind of data do we have and how do we treat different types?\n",
    "    What's missing from the data and how do you deal with it?\n",
    "    Where are the outliers and why should you care about them?\n",
    "    How can you add, change or remove features to get more out of your data?\n",
    "\n"
   ]
  },
  {
   "cell_type": "code",
   "execution_count": null,
   "id": "4baff09e",
   "metadata": {},
   "outputs": [],
   "source": [
    "df.head(10)  # first 10 rows"
   ]
  },
  {
   "cell_type": "code",
   "execution_count": null,
   "id": "f25c82d9",
   "metadata": {},
   "outputs": [],
   "source": [
    "df['target'].value_counts()  # count of target variable"
   ]
  },
  {
   "cell_type": "code",
   "execution_count": null,
   "id": "53c13a66",
   "metadata": {},
   "outputs": [],
   "source": [
    "df['target'].value_counts().plot(kind='bar', color=['salmon', 'lightblue'], figsize=(10, 6))\n",
    "plt.title(\"Heart Disease Frequency\")\n",
    "plt.xlabel(\"0 = No Disease, 1 = Disease\")\n",
    "plt.ylabel(\"Count\") \n"
   ]
  },
  {
   "cell_type": "code",
   "execution_count": null,
   "id": "b3a95f39",
   "metadata": {},
   "outputs": [],
   "source": [
    "df.info()  # information about the dataset"
   ]
  },
  {
   "cell_type": "code",
   "execution_count": null,
   "id": "79057ba6",
   "metadata": {},
   "outputs": [],
   "source": [
    "df.isna().sum()  # check for missing values"
   ]
  },
  {
   "cell_type": "code",
   "execution_count": null,
   "id": "6aa487af",
   "metadata": {},
   "outputs": [],
   "source": [
    "df.describe()  # statistical information about the dataset"
   ]
  },
  {
   "cell_type": "markdown",
   "id": "69514483",
   "metadata": {},
   "source": [
    "## Finding Patterns"
   ]
  },
  {
   "cell_type": "markdown",
   "id": "a1fff7cc",
   "metadata": {},
   "source": [
    "### Heart Disease Frequency according to Sex"
   ]
  },
  {
   "cell_type": "code",
   "execution_count": null,
   "id": "2a520fa2",
   "metadata": {},
   "outputs": [],
   "source": [
    "df.sex.value_counts()"
   ]
  },
  {
   "cell_type": "code",
   "execution_count": null,
   "id": "f9a14ac1",
   "metadata": {},
   "outputs": [],
   "source": [
    "# Compare Target Column with sex Column\n",
    "pd.crosstab(df.target, df.sex)"
   ]
  },
  {
   "cell_type": "code",
   "execution_count": null,
   "id": "c377a27b",
   "metadata": {},
   "outputs": [],
   "source": [
    "pd.crosstab(df.target, df.sex).plot(kind='bar', color=['salmon', 'lightblue'], figsize=(10, 6))\n",
    "plt.title(\"Heart Disease Frequency for Sex\")\n",
    "plt.xlabel(\"0 = No Disease, 1 = Disease\")\n",
    "plt.ylabel(\"Amount\")\n",
    "plt.legend([\"Female\", 'Male'])\n",
    "plt.xticks(rotation=0)"
   ]
  },
  {
   "cell_type": "markdown",
   "id": "58ab7574",
   "metadata": {},
   "source": [
    "### Age vs Max Heart Rate for Heart Disease"
   ]
  },
  {
   "cell_type": "code",
   "execution_count": null,
   "id": "784e2d51",
   "metadata": {},
   "outputs": [],
   "source": [
    "# Create another figure\n",
    "plt.figure(figsize=(10, 6))\n",
    "\n",
    "# Scatter with positive examples\n",
    "plt.scatter(df.age[df.target == 1], df.thalach[df.target == 1], color='salmon')\n",
    "\n",
    "# Scatter with negative examples\n",
    "plt.scatter(df.age[df.target == 0], df.thalach[df.target == 0], color='lightblue')\n",
    "plt.title(\"Heart Disease in function of Age and Max Heart Rate\")\n",
    "plt.xlabel(\"Age\")\n",
    "plt.ylabel(\"Max Heart Rate\")\n",
    "plt.legend([\"Disease\", \"No Disease\"])\n",
    "plt.show()\n"
   ]
  },
  {
   "cell_type": "code",
   "execution_count": null,
   "id": "ab413ec3",
   "metadata": {},
   "outputs": [],
   "source": [
    "# Check the distribution of the age column with a histogram\n",
    "plt.figure(figsize=(10, 6))\n",
    "plt.hist(df.age, bins=30, color='salmon')\n",
    "plt.title(\"Age Distribution\")\n",
    "plt.xlabel(\"Age\")\n",
    "plt.ylabel(\"Count\")\n",
    "plt.show()\n"
   ]
  },
  {
   "cell_type": "markdown",
   "id": "d85192f0",
   "metadata": {},
   "source": [
    "### Heart Disease Frequency per Chest Pain \n",
    "\n",
    "cp - chest pain type\n",
    "\n",
    "        - 0: Typical angina: chest pain related decrease blood supply to the heart\n",
    "        - 1: Atypical angina: chest pain not related to heart\n",
    "        - 2: Non-anginal pain: typically esophageal spasms (non heart related)\n",
    "        - 3: Asymptomatic: chest pain not showing signs of disease"
   ]
  },
  {
   "cell_type": "code",
   "execution_count": null,
   "id": "ed9a2ca4",
   "metadata": {},
   "outputs": [],
   "source": [
    "pd.crosstab(df.target, df.cp)"
   ]
  },
  {
   "cell_type": "code",
   "execution_count": null,
   "id": "ac9ac283",
   "metadata": {},
   "outputs": [],
   "source": [
    "# Make the crosstab more visual\n",
    "pd.crosstab(df.target, df.cp).plot(kind='bar', color=['salmon', 'lightblue'], figsize=(10, 6))\n",
    "plt.title(\"Heart Disease Frequency per Chest Pain Type\") \n",
    "plt.xlabel(\"0 = No Disease, 1 = Disease\")\n",
    "plt.ylabel(\"Amount\")\n",
    "plt.legend([\"Typical Angina\", \"Atypical Angina\", \"Non-Anginal Pain\", \"Asymptomatic\"])\n",
    "plt.xticks(rotation=0);\n"
   ]
  },
  {
   "cell_type": "code",
   "execution_count": null,
   "id": "2722b776",
   "metadata": {},
   "outputs": [],
   "source": [
    "df.head()"
   ]
  },
  {
   "cell_type": "code",
   "execution_count": null,
   "id": "0c82d3a4",
   "metadata": {},
   "outputs": [],
   "source": [
    "# Make a correlation matrix \n",
    "df.corr()"
   ]
  },
  {
   "cell_type": "code",
   "execution_count": null,
   "id": "213734d5",
   "metadata": {},
   "outputs": [],
   "source": [
    "corr_matrix = df.corr()\n",
    "fig, ax = plt.subplots(figsize=(10, 6))\n",
    "sns.heatmap(corr_matrix, annot=True, fmt=\".2f\", cmap='coolwarm', linewidths=0.5, ax=ax)\n",
    "plt.title(\"Correlation Matrix\")\n",
    "plt.show()  "
   ]
  },
  {
   "cell_type": "markdown",
   "id": "01e1bc04",
   "metadata": {},
   "source": [
    "## Modelling"
   ]
  },
  {
   "cell_type": "code",
   "execution_count": null,
   "id": "2ff45d39",
   "metadata": {},
   "outputs": [],
   "source": [
    "# Split data into X and y\n",
    "X = df.drop(\"target\", axis=1)\n",
    "y = df[\"target\"]\n",
    "# Split data into training and test sets\n",
    "X_train, X_test, y_train, y_test = train_test_split(X, y, test_size=0.2, random_state=42)\n",
    "# Check the shape of the training and test sets\n",
    "X_train.shape, X_test.shape, y_train.shape, y_test.shape"
   ]
  },
  {
   "cell_type": "markdown",
   "id": "f93bb96c",
   "metadata": {},
   "source": [
    "### We are going to try 3 different models\n",
    " 1. Logistic Regression\n",
    " 2. K-Nearest Neighbors Classifier\n",
    " 3. Random Forest Classifier\n"
   ]
  },
  {
   "cell_type": "code",
   "execution_count": null,
   "id": "626caa77",
   "metadata": {},
   "outputs": [],
   "source": [
    "# Put models in a dictionary  \n",
    "models = {\n",
    "    \"Logistic Regression\": LogisticRegression(),\n",
    "    \"KNN\": KNeighborsClassifier(),\n",
    "    \"Random Forest\": RandomForestClassifier()\n",
    "}\n",
    "\n",
    "# Create a function to fit and score models\n",
    "def fit_and_score(models, X_train, X_test, y_train, y_test):\n",
    "    \"\"\"\n",
    "    Fits and evaluates given machine learning models.\n",
    "    \n",
    "    Args:\n",
    "        models (dict): Dictionary of models to evaluate.\n",
    "        X_train (DataFrame): Training data features.\n",
    "        X_test (DataFrame): Testing data features.\n",
    "        y_train (Series): Training data target variable.\n",
    "        y_test (Series): Testing data target variable.\n",
    "        \n",
    "    Returns:\n",
    "        dict: Dictionary of model scores.\n",
    "    \"\"\"\n",
    "    np.random.seed(42)\n",
    "    # Make a dictionary to keep model scores\n",
    "    model_scores = {}\n",
    "    \n",
    "    # Loop through models\n",
    "    for name, model in models.items():\n",
    "        # Fit the model to the training data\n",
    "        model.fit(X_train, y_train)\n",
    "        # Evaluate the model and append its score to the list\n",
    "        model_scores[name] = model.score(X_test, y_test)\n",
    "        \n",
    "    return model_scores"
   ]
  },
  {
   "cell_type": "code",
   "execution_count": null,
   "id": "aa7bc3e8",
   "metadata": {},
   "outputs": [],
   "source": [
    "# Fit and score the models\n",
    "model_scores = fit_and_score(models, X_train, X_test, y_train, y_test)\n",
    "model_scores"
   ]
  },
  {
   "cell_type": "markdown",
   "id": "3dd16e3c",
   "metadata": {},
   "source": [
    "### Model comparison"
   ]
  },
  {
   "cell_type": "code",
   "execution_count": null,
   "id": "868297c1",
   "metadata": {},
   "outputs": [],
   "source": [
    "model_compare = pd.DataFrame(model_scores, index=[\"accuracy\"])\n",
    "model_compare.T.plot.bar(figsize=(10, 6), color=['salmon', 'lightblue', 'lightgreen'])\n",
    "plt.title(\"Model Comparison\")\n",
    "plt.xlabel(\"Model\")\n",
    "plt.ylabel(\"Accuracy\")\n",
    "plt.xticks(rotation=0)\n",
    "plt.show()\n"
   ]
  },
  {
   "cell_type": "markdown",
   "id": "0429278a",
   "metadata": {},
   "source": [
    "### Tuning/Improving Our Model\n"
   ]
  },
  {
   "cell_type": "code",
   "execution_count": null,
   "id": "a4ac2ea5",
   "metadata": {},
   "outputs": [],
   "source": [
    "# Hyperparameter tuning\n",
    "# Let´s tune KNN\n",
    "from sklearn import neighbors\n",
    "\n",
    "\n",
    "train_scores = []\n",
    "test_scores = []\n",
    "# Create a list of different values for n_neighbors\n",
    "neighbors = range(1, 21)\n",
    "\n",
    "#Set up KNN instance\n",
    "knn = KNeighborsClassifier()\n",
    "\n",
    "# Loop through different n_neighbors\n",
    "\n",
    "for i in neighbors:\n",
    "  knn.set_params(n_neighbors=i)\n",
    "  # fit the algorithm to the training data\n",
    "  knn.fit(X_train, y_train)\n",
    "  # update the training scores list\n",
    "  train_scores.append(knn.score(X_train, y_train))\n",
    "  # update the testing scores list \n",
    "  test_scores.append(knn.score(X_test, y_test))\n",
    "  \n"
   ]
  },
  {
   "cell_type": "code",
   "execution_count": null,
   "id": "b55e4fc7",
   "metadata": {},
   "outputs": [],
   "source": [
    "plt.plot(neighbors, train_scores, label=\"Train Score\")\n",
    "plt.plot(neighbors, test_scores, label=\"Test Score\")\n",
    "plt.xlabel(\"Number of Neighbors\")\n",
    "plt.ylabel(\"Model Score\")\n",
    "plt.title(\"KNN Varying Number of Neighbors\")\n",
    "plt.legend()\n",
    "plt.show()\n",
    "\n",
    "print(f\"Maximum KNN score on the test data: {max(test_scores) * 100:.2f}%\")\n"
   ]
  },
  {
   "cell_type": "code",
   "execution_count": null,
   "id": "b5e5989f",
   "metadata": {},
   "outputs": [],
   "source": []
  }
 ],
 "metadata": {
  "kernelspec": {
   "display_name": "milestone_project_1",
   "language": "python",
   "name": "python3"
  },
  "language_info": {
   "codemirror_mode": {
    "name": "ipython",
    "version": 3
   },
   "file_extension": ".py",
   "mimetype": "text/x-python",
   "name": "python",
   "nbconvert_exporter": "python",
   "pygments_lexer": "ipython3",
   "version": "3.10.16"
  }
 },
 "nbformat": 4,
 "nbformat_minor": 5
}
